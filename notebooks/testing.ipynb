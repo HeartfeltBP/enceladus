{
 "cells": [
  {
   "cell_type": "code",
   "execution_count": null,
   "metadata": {},
   "outputs": [],
   "source": [
    "import pandas as pd\n",
    "from enceladus.workflows import TestingPipeline\n",
    "\n",
    "worker = TestingPipeline(\n",
    "    data_dir='/home/cam/Documents/database_tools/data/mimic3-data-20230220/data/',\n",
    "    model_dir='heartfelt/enceladus-scripts/model-stoic-music-1:v14',\n",
    "    scaler_dir='/home/cam/Documents/database_tools/data/mimic3-data-20230220/data/min_max_scaler_1677039520347015684.pkl',\n",
    ")\n",
    "\n",
    "# returns rescaled data\n",
    "error, ppg, vpg, apg, abp, pred = worker.run()"
   ]
  },
  {
   "cell_type": "code",
   "execution_count": 2,
   "metadata": {},
   "outputs": [
    {
     "data": {
      "text/html": [
       "wandb version 0.14.0 is available!  To upgrade, please run:\n",
       " $ pip install wandb --upgrade"
      ],
      "text/plain": [
       "<IPython.core.display.HTML object>"
      ]
     },
     "metadata": {},
     "output_type": "display_data"
    },
    {
     "data": {
      "text/html": [
       "Tracking run with wandb version 0.13.10"
      ],
      "text/plain": [
       "<IPython.core.display.HTML object>"
      ]
     },
     "metadata": {},
     "output_type": "display_data"
    },
    {
     "data": {
      "text/html": [
       "Run data is saved locally in <code>/home/cam/Documents/enceladus/notebooks/wandb/run-20230402_185525-krqu8kna</code>"
      ],
      "text/plain": [
       "<IPython.core.display.HTML object>"
      ]
     },
     "metadata": {},
     "output_type": "display_data"
    },
    {
     "data": {
      "text/html": [
       "Syncing run <strong><a href='https://wandb.ai/heartfelt/Enceladus-notebooks/runs/krqu8kna' target=\"_blank\">fancy-hill-103</a></strong> to <a href='https://wandb.ai/heartfelt/Enceladus-notebooks' target=\"_blank\">Weights & Biases</a> (<a href='https://wandb.me/run' target=\"_blank\">docs</a>)<br/>"
      ],
      "text/plain": [
       "<IPython.core.display.HTML object>"
      ]
     },
     "metadata": {},
     "output_type": "display_data"
    },
    {
     "data": {
      "text/html": [
       " View project at <a href='https://wandb.ai/heartfelt/Enceladus-notebooks' target=\"_blank\">https://wandb.ai/heartfelt/Enceladus-notebooks</a>"
      ],
      "text/plain": [
       "<IPython.core.display.HTML object>"
      ]
     },
     "metadata": {},
     "output_type": "display_data"
    },
    {
     "data": {
      "text/html": [
       " View run at <a href='https://wandb.ai/heartfelt/Enceladus-notebooks/runs/krqu8kna' target=\"_blank\">https://wandb.ai/heartfelt/Enceladus-notebooks/runs/krqu8kna</a>"
      ],
      "text/plain": [
       "<IPython.core.display.HTML object>"
      ]
     },
     "metadata": {},
     "output_type": "display_data"
    },
    {
     "name": "stderr",
     "output_type": "stream",
     "text": [
      "\u001b[34m\u001b[1mwandb\u001b[0m: Downloading large artifact model-stoic-music-1:v14, 58.89MB. 4 files... \n",
      "\u001b[34m\u001b[1mwandb\u001b[0m:   4 of 4 files downloaded.  \n",
      "Done. 0:0:0.0\n"
     ]
    },
    {
     "data": {
      "text/html": [
       "Waiting for W&B process to finish... <strong style=\"color:green\">(success).</strong>"
      ],
      "text/plain": [
       "<IPython.core.display.HTML object>"
      ]
     },
     "metadata": {},
     "output_type": "display_data"
    },
    {
     "data": {
      "application/vnd.jupyter.widget-view+json": {
       "model_id": "856319ee22eb4db391f199d133f9064e",
       "version_major": 2,
       "version_minor": 0
      },
      "text/plain": [
       "VBox(children=(Label(value='0.003 MB of 0.003 MB uploaded (0.000 MB deduped)\\r'), FloatProgress(value=1.0, max…"
      ]
     },
     "metadata": {},
     "output_type": "display_data"
    },
    {
     "data": {
      "text/html": [
       " View run <strong style=\"color:#cdcd00\">fancy-hill-103</strong> at: <a href='https://wandb.ai/heartfelt/Enceladus-notebooks/runs/krqu8kna' target=\"_blank\">https://wandb.ai/heartfelt/Enceladus-notebooks/runs/krqu8kna</a><br/>Synced 5 W&B file(s), 0 media file(s), 0 artifact file(s) and 0 other file(s)"
      ],
      "text/plain": [
       "<IPython.core.display.HTML object>"
      ]
     },
     "metadata": {},
     "output_type": "display_data"
    },
    {
     "data": {
      "text/html": [
       "Find logs at: <code>./wandb/run-20230402_185525-krqu8kna/logs</code>"
      ],
      "text/plain": [
       "<IPython.core.display.HTML object>"
      ]
     },
     "metadata": {},
     "output_type": "display_data"
    }
   ],
   "source": [
    "import plotly.graph_objects as go\n",
    "import pickle as pkl\n",
    "import keras\n",
    "import wandb\n",
    "import numpy as np\n",
    "\n",
    "def load_model(path):\n",
    "    run = wandb.init()\n",
    "    artifact = run.use_artifact(path, type='model')\n",
    "    artifact_dir = artifact.download()\n",
    "    wandb.finish()\n",
    "    model = keras.models.load_model(artifact_dir)\n",
    "    return model\n",
    "\n",
    "model = load_model('heartfelt/enceladus-scripts/model-stoic-music-1:v14')"
   ]
  },
  {
   "cell_type": "code",
   "execution_count": 10,
   "metadata": {},
   "outputs": [
    {
     "name": "stdout",
     "output_type": "stream",
     "text": [
      "1/1 [==============================] - 0s 13ms/step\n"
     ]
    },
    {
     "data": {
      "application/vnd.plotly.v1+json": {
       "config": {
        "plotlyServerURL": "https://plot.ly"
       },
       "data": [
        {
         "type": "scatter",
         "y": [
          0.17214162647724152,
          0.23568683862686157,
          0.20506764948368073,
          0.1785704642534256,
          0.22104103863239288,
          0.24228903651237488,
          0.25745707750320435,
          0.26722902059555054,
          0.268871545791626,
          0.2678793668746948,
          0.26310843229293823,
          0.2634577751159668,
          0.26471394300460815,
          0.2620124816894531,
          0.2574903666973114,
          0.25272732973098755,
          0.24933142960071564,
          0.24969321489334106,
          0.25015732645988464,
          0.25022071599960327,
          0.24878078699111938,
          0.2476876825094223,
          0.2450336515903473,
          0.24349087476730347,
          0.24209928512573242,
          0.2393280565738678,
          0.23302806913852692,
          0.2243564873933792,
          0.21340468525886536,
          0.20363709330558777,
          0.19474734365940094,
          0.18382492661476135,
          0.1744460016489029,
          0.1691867560148239,
          0.162153959274292,
          0.15579214692115784,
          0.15197619795799255,
          0.1481504738330841,
          0.14557026326656342,
          0.14598903059959412,
          0.14959754049777985,
          0.15677034854888916,
          0.16277293860912323,
          0.16972056031227112,
          0.1752854883670807,
          0.17865967750549316,
          0.17767085134983063,
          0.17728284001350403,
          0.18614555895328522,
          0.19481106102466583,
          0.2013043761253357,
          0.2092936933040619,
          0.2094074785709381,
          0.20641373097896576,
          0.19231484830379486,
          0.19232621788978577,
          0.1992076188325882,
          0.20194461941719055,
          0.20005889236927032,
          0.20095457136631012,
          0.20864199101924896,
          0.2242984175682068,
          0.24899506568908691,
          0.2759690582752228,
          0.29876184463500977,
          0.31846725940704346,
          0.3362823724746704,
          0.34781596064567566,
          0.3557242751121521,
          0.3601609766483307,
          0.36074814200401306,
          0.35715025663375854,
          0.35439348220825195,
          0.35179784893989563,
          0.34823575615882874,
          0.34538859128952026,
          0.3388965129852295,
          0.33250749111175537,
          0.3276313841342926,
          0.3240019977092743,
          0.31725358963012695,
          0.31446605920791626,
          0.31326326727867126,
          0.3163774609565735,
          0.3205910623073578,
          0.3151813745498657,
          0.3049572706222534,
          0.2931522727012634,
          0.28205206990242004,
          0.2739165425300598,
          0.2694467604160309,
          0.265006422996521,
          0.2645281255245209,
          0.2664439082145691,
          0.2694937288761139,
          0.2721255421638489,
          0.272159606218338,
          0.2730472683906555,
          0.2769205570220947,
          0.2776874899864197,
          0.2729724645614624,
          0.26655083894729614,
          0.26027020812034607,
          0.2577657103538513,
          0.26232582330703735,
          0.2668510973453522,
          0.2665015757083893,
          0.25990724563598633,
          0.24918365478515625,
          0.23458914458751678,
          0.22162574529647827,
          0.21777097880840302,
          0.22023719549179077,
          0.22516335546970367,
          0.22721433639526367,
          0.22933174669742584,
          0.22731101512908936,
          0.22492307424545288,
          0.22001945972442627,
          0.20835772156715393,
          0.19601190090179443,
          0.18319237232208252,
          0.17067530751228333,
          0.15370739996433258,
          0.14316245913505554,
          0.1371125876903534,
          0.1336013525724411,
          0.1301376074552536,
          0.12820343673229218,
          0.12891322374343872,
          0.12947504222393036,
          0.13214245438575745,
          0.1341017484664917,
          0.1375168412923813,
          0.13963103294372559,
          0.14375212788581848,
          0.14822082221508026,
          0.1551169604063034,
          0.16196994483470917,
          0.1697816252708435,
          0.17669549584388733,
          0.181092768907547,
          0.17965291440486908,
          0.18088141083717346,
          0.19099989533424377,
          0.19657394289970398,
          0.19983883202075958,
          0.20325860381126404,
          0.20507016777992249,
          0.1995682716369629,
          0.1905175894498825,
          0.1979334056377411,
          0.20634111762046814,
          0.2031240016222,
          0.2032628357410431,
          0.20925059914588928,
          0.22566378116607666,
          0.2464020699262619,
          0.2718757092952728,
          0.29525020718574524,
          0.32011687755584717,
          0.3374749422073364,
          0.3484157919883728,
          0.35372573137283325,
          0.3601100444793701,
          0.3624114394187927,
          0.3612939417362213,
          0.3567986786365509,
          0.35412582755088806,
          0.35196417570114136,
          0.3455483019351959,
          0.3383868932723999,
          0.33078694343566895,
          0.3238320052623749,
          0.31735464930534363,
          0.3116456866264343,
          0.3076322078704834,
          0.3103012144565582,
          0.3158593475818634,
          0.32290297746658325,
          0.3221185505390167,
          0.31065893173217773,
          0.3016655147075653,
          0.2911395728588104,
          0.28278475999832153,
          0.2771506905555725,
          0.2757946252822876,
          0.274259090423584,
          0.27640295028686523,
          0.28232455253601074,
          0.2848629951477051,
          0.28880125284194946,
          0.2928023040294647,
          0.29621976613998413,
          0.29639261960983276,
          0.29296910762786865,
          0.2881247401237488,
          0.282998263835907,
          0.27885568141937256,
          0.2735895812511444,
          0.2647891640663147,
          0.26348260045051575,
          0.26185309886932373,
          0.2596421241760254,
          0.2545629143714905,
          0.2491602748632431,
          0.2374841570854187,
          0.22893211245536804,
          0.22602123022079468,
          0.2289876490831375,
          0.22781072556972504,
          0.22763188183307648,
          0.22303500771522522,
          0.21537551283836365,
          0.20584626495838165,
          0.19077207148075104,
          0.1804237961769104,
          0.16921719908714294,
          0.1618840992450714,
          0.1522526741027832,
          0.1465166062116623,
          0.1408454328775406,
          0.13922019302845,
          0.13793280720710754,
          0.1376734972000122,
          0.14038097858428955,
          0.1423179805278778,
          0.1472250521183014,
          0.15126872062683105,
          0.15733641386032104,
          0.1634308397769928,
          0.169938862323761,
          0.17319759726524353,
          0.17770788073539734,
          0.18669094145298004,
          0.1961725652217865,
          0.20140445232391357,
          0.20269015431404114,
          0.20448188483715057,
          0.20939067006111145,
          0.21172775328159332,
          0.21750204265117645,
          0.23200711607933044,
          0.24323025345802307,
          0.24046342074871063,
          0.2359754741191864,
          0.21563628315925598,
          0.20119620859622955,
          0.2315249741077423,
          0.2591254413127899,
          0.2993201017379761,
          0.3355669379234314,
          0.3686732053756714,
          0.3831566870212555,
          0.4072045087814331,
          0.3703753352165222
         ]
        }
       ],
       "layout": {
        "template": {
         "data": {
          "bar": [
           {
            "error_x": {
             "color": "#2a3f5f"
            },
            "error_y": {
             "color": "#2a3f5f"
            },
            "marker": {
             "line": {
              "color": "#E5ECF6",
              "width": 0.5
             },
             "pattern": {
              "fillmode": "overlay",
              "size": 10,
              "solidity": 0.2
             }
            },
            "type": "bar"
           }
          ],
          "barpolar": [
           {
            "marker": {
             "line": {
              "color": "#E5ECF6",
              "width": 0.5
             },
             "pattern": {
              "fillmode": "overlay",
              "size": 10,
              "solidity": 0.2
             }
            },
            "type": "barpolar"
           }
          ],
          "carpet": [
           {
            "aaxis": {
             "endlinecolor": "#2a3f5f",
             "gridcolor": "white",
             "linecolor": "white",
             "minorgridcolor": "white",
             "startlinecolor": "#2a3f5f"
            },
            "baxis": {
             "endlinecolor": "#2a3f5f",
             "gridcolor": "white",
             "linecolor": "white",
             "minorgridcolor": "white",
             "startlinecolor": "#2a3f5f"
            },
            "type": "carpet"
           }
          ],
          "choropleth": [
           {
            "colorbar": {
             "outlinewidth": 0,
             "ticks": ""
            },
            "type": "choropleth"
           }
          ],
          "contour": [
           {
            "colorbar": {
             "outlinewidth": 0,
             "ticks": ""
            },
            "colorscale": [
             [
              0,
              "#0d0887"
             ],
             [
              0.1111111111111111,
              "#46039f"
             ],
             [
              0.2222222222222222,
              "#7201a8"
             ],
             [
              0.3333333333333333,
              "#9c179e"
             ],
             [
              0.4444444444444444,
              "#bd3786"
             ],
             [
              0.5555555555555556,
              "#d8576b"
             ],
             [
              0.6666666666666666,
              "#ed7953"
             ],
             [
              0.7777777777777778,
              "#fb9f3a"
             ],
             [
              0.8888888888888888,
              "#fdca26"
             ],
             [
              1,
              "#f0f921"
             ]
            ],
            "type": "contour"
           }
          ],
          "contourcarpet": [
           {
            "colorbar": {
             "outlinewidth": 0,
             "ticks": ""
            },
            "type": "contourcarpet"
           }
          ],
          "heatmap": [
           {
            "colorbar": {
             "outlinewidth": 0,
             "ticks": ""
            },
            "colorscale": [
             [
              0,
              "#0d0887"
             ],
             [
              0.1111111111111111,
              "#46039f"
             ],
             [
              0.2222222222222222,
              "#7201a8"
             ],
             [
              0.3333333333333333,
              "#9c179e"
             ],
             [
              0.4444444444444444,
              "#bd3786"
             ],
             [
              0.5555555555555556,
              "#d8576b"
             ],
             [
              0.6666666666666666,
              "#ed7953"
             ],
             [
              0.7777777777777778,
              "#fb9f3a"
             ],
             [
              0.8888888888888888,
              "#fdca26"
             ],
             [
              1,
              "#f0f921"
             ]
            ],
            "type": "heatmap"
           }
          ],
          "heatmapgl": [
           {
            "colorbar": {
             "outlinewidth": 0,
             "ticks": ""
            },
            "colorscale": [
             [
              0,
              "#0d0887"
             ],
             [
              0.1111111111111111,
              "#46039f"
             ],
             [
              0.2222222222222222,
              "#7201a8"
             ],
             [
              0.3333333333333333,
              "#9c179e"
             ],
             [
              0.4444444444444444,
              "#bd3786"
             ],
             [
              0.5555555555555556,
              "#d8576b"
             ],
             [
              0.6666666666666666,
              "#ed7953"
             ],
             [
              0.7777777777777778,
              "#fb9f3a"
             ],
             [
              0.8888888888888888,
              "#fdca26"
             ],
             [
              1,
              "#f0f921"
             ]
            ],
            "type": "heatmapgl"
           }
          ],
          "histogram": [
           {
            "marker": {
             "pattern": {
              "fillmode": "overlay",
              "size": 10,
              "solidity": 0.2
             }
            },
            "type": "histogram"
           }
          ],
          "histogram2d": [
           {
            "colorbar": {
             "outlinewidth": 0,
             "ticks": ""
            },
            "colorscale": [
             [
              0,
              "#0d0887"
             ],
             [
              0.1111111111111111,
              "#46039f"
             ],
             [
              0.2222222222222222,
              "#7201a8"
             ],
             [
              0.3333333333333333,
              "#9c179e"
             ],
             [
              0.4444444444444444,
              "#bd3786"
             ],
             [
              0.5555555555555556,
              "#d8576b"
             ],
             [
              0.6666666666666666,
              "#ed7953"
             ],
             [
              0.7777777777777778,
              "#fb9f3a"
             ],
             [
              0.8888888888888888,
              "#fdca26"
             ],
             [
              1,
              "#f0f921"
             ]
            ],
            "type": "histogram2d"
           }
          ],
          "histogram2dcontour": [
           {
            "colorbar": {
             "outlinewidth": 0,
             "ticks": ""
            },
            "colorscale": [
             [
              0,
              "#0d0887"
             ],
             [
              0.1111111111111111,
              "#46039f"
             ],
             [
              0.2222222222222222,
              "#7201a8"
             ],
             [
              0.3333333333333333,
              "#9c179e"
             ],
             [
              0.4444444444444444,
              "#bd3786"
             ],
             [
              0.5555555555555556,
              "#d8576b"
             ],
             [
              0.6666666666666666,
              "#ed7953"
             ],
             [
              0.7777777777777778,
              "#fb9f3a"
             ],
             [
              0.8888888888888888,
              "#fdca26"
             ],
             [
              1,
              "#f0f921"
             ]
            ],
            "type": "histogram2dcontour"
           }
          ],
          "mesh3d": [
           {
            "colorbar": {
             "outlinewidth": 0,
             "ticks": ""
            },
            "type": "mesh3d"
           }
          ],
          "parcoords": [
           {
            "line": {
             "colorbar": {
              "outlinewidth": 0,
              "ticks": ""
             }
            },
            "type": "parcoords"
           }
          ],
          "pie": [
           {
            "automargin": true,
            "type": "pie"
           }
          ],
          "scatter": [
           {
            "fillpattern": {
             "fillmode": "overlay",
             "size": 10,
             "solidity": 0.2
            },
            "type": "scatter"
           }
          ],
          "scatter3d": [
           {
            "line": {
             "colorbar": {
              "outlinewidth": 0,
              "ticks": ""
             }
            },
            "marker": {
             "colorbar": {
              "outlinewidth": 0,
              "ticks": ""
             }
            },
            "type": "scatter3d"
           }
          ],
          "scattercarpet": [
           {
            "marker": {
             "colorbar": {
              "outlinewidth": 0,
              "ticks": ""
             }
            },
            "type": "scattercarpet"
           }
          ],
          "scattergeo": [
           {
            "marker": {
             "colorbar": {
              "outlinewidth": 0,
              "ticks": ""
             }
            },
            "type": "scattergeo"
           }
          ],
          "scattergl": [
           {
            "marker": {
             "colorbar": {
              "outlinewidth": 0,
              "ticks": ""
             }
            },
            "type": "scattergl"
           }
          ],
          "scattermapbox": [
           {
            "marker": {
             "colorbar": {
              "outlinewidth": 0,
              "ticks": ""
             }
            },
            "type": "scattermapbox"
           }
          ],
          "scatterpolar": [
           {
            "marker": {
             "colorbar": {
              "outlinewidth": 0,
              "ticks": ""
             }
            },
            "type": "scatterpolar"
           }
          ],
          "scatterpolargl": [
           {
            "marker": {
             "colorbar": {
              "outlinewidth": 0,
              "ticks": ""
             }
            },
            "type": "scatterpolargl"
           }
          ],
          "scatterternary": [
           {
            "marker": {
             "colorbar": {
              "outlinewidth": 0,
              "ticks": ""
             }
            },
            "type": "scatterternary"
           }
          ],
          "surface": [
           {
            "colorbar": {
             "outlinewidth": 0,
             "ticks": ""
            },
            "colorscale": [
             [
              0,
              "#0d0887"
             ],
             [
              0.1111111111111111,
              "#46039f"
             ],
             [
              0.2222222222222222,
              "#7201a8"
             ],
             [
              0.3333333333333333,
              "#9c179e"
             ],
             [
              0.4444444444444444,
              "#bd3786"
             ],
             [
              0.5555555555555556,
              "#d8576b"
             ],
             [
              0.6666666666666666,
              "#ed7953"
             ],
             [
              0.7777777777777778,
              "#fb9f3a"
             ],
             [
              0.8888888888888888,
              "#fdca26"
             ],
             [
              1,
              "#f0f921"
             ]
            ],
            "type": "surface"
           }
          ],
          "table": [
           {
            "cells": {
             "fill": {
              "color": "#EBF0F8"
             },
             "line": {
              "color": "white"
             }
            },
            "header": {
             "fill": {
              "color": "#C8D4E3"
             },
             "line": {
              "color": "white"
             }
            },
            "type": "table"
           }
          ]
         },
         "layout": {
          "annotationdefaults": {
           "arrowcolor": "#2a3f5f",
           "arrowhead": 0,
           "arrowwidth": 1
          },
          "autotypenumbers": "strict",
          "coloraxis": {
           "colorbar": {
            "outlinewidth": 0,
            "ticks": ""
           }
          },
          "colorscale": {
           "diverging": [
            [
             0,
             "#8e0152"
            ],
            [
             0.1,
             "#c51b7d"
            ],
            [
             0.2,
             "#de77ae"
            ],
            [
             0.3,
             "#f1b6da"
            ],
            [
             0.4,
             "#fde0ef"
            ],
            [
             0.5,
             "#f7f7f7"
            ],
            [
             0.6,
             "#e6f5d0"
            ],
            [
             0.7,
             "#b8e186"
            ],
            [
             0.8,
             "#7fbc41"
            ],
            [
             0.9,
             "#4d9221"
            ],
            [
             1,
             "#276419"
            ]
           ],
           "sequential": [
            [
             0,
             "#0d0887"
            ],
            [
             0.1111111111111111,
             "#46039f"
            ],
            [
             0.2222222222222222,
             "#7201a8"
            ],
            [
             0.3333333333333333,
             "#9c179e"
            ],
            [
             0.4444444444444444,
             "#bd3786"
            ],
            [
             0.5555555555555556,
             "#d8576b"
            ],
            [
             0.6666666666666666,
             "#ed7953"
            ],
            [
             0.7777777777777778,
             "#fb9f3a"
            ],
            [
             0.8888888888888888,
             "#fdca26"
            ],
            [
             1,
             "#f0f921"
            ]
           ],
           "sequentialminus": [
            [
             0,
             "#0d0887"
            ],
            [
             0.1111111111111111,
             "#46039f"
            ],
            [
             0.2222222222222222,
             "#7201a8"
            ],
            [
             0.3333333333333333,
             "#9c179e"
            ],
            [
             0.4444444444444444,
             "#bd3786"
            ],
            [
             0.5555555555555556,
             "#d8576b"
            ],
            [
             0.6666666666666666,
             "#ed7953"
            ],
            [
             0.7777777777777778,
             "#fb9f3a"
            ],
            [
             0.8888888888888888,
             "#fdca26"
            ],
            [
             1,
             "#f0f921"
            ]
           ]
          },
          "colorway": [
           "#636efa",
           "#EF553B",
           "#00cc96",
           "#ab63fa",
           "#FFA15A",
           "#19d3f3",
           "#FF6692",
           "#B6E880",
           "#FF97FF",
           "#FECB52"
          ],
          "font": {
           "color": "#2a3f5f"
          },
          "geo": {
           "bgcolor": "white",
           "lakecolor": "white",
           "landcolor": "#E5ECF6",
           "showlakes": true,
           "showland": true,
           "subunitcolor": "white"
          },
          "hoverlabel": {
           "align": "left"
          },
          "hovermode": "closest",
          "mapbox": {
           "style": "light"
          },
          "paper_bgcolor": "white",
          "plot_bgcolor": "#E5ECF6",
          "polar": {
           "angularaxis": {
            "gridcolor": "white",
            "linecolor": "white",
            "ticks": ""
           },
           "bgcolor": "#E5ECF6",
           "radialaxis": {
            "gridcolor": "white",
            "linecolor": "white",
            "ticks": ""
           }
          },
          "scene": {
           "xaxis": {
            "backgroundcolor": "#E5ECF6",
            "gridcolor": "white",
            "gridwidth": 2,
            "linecolor": "white",
            "showbackground": true,
            "ticks": "",
            "zerolinecolor": "white"
           },
           "yaxis": {
            "backgroundcolor": "#E5ECF6",
            "gridcolor": "white",
            "gridwidth": 2,
            "linecolor": "white",
            "showbackground": true,
            "ticks": "",
            "zerolinecolor": "white"
           },
           "zaxis": {
            "backgroundcolor": "#E5ECF6",
            "gridcolor": "white",
            "gridwidth": 2,
            "linecolor": "white",
            "showbackground": true,
            "ticks": "",
            "zerolinecolor": "white"
           }
          },
          "shapedefaults": {
           "line": {
            "color": "#2a3f5f"
           }
          },
          "ternary": {
           "aaxis": {
            "gridcolor": "white",
            "linecolor": "white",
            "ticks": ""
           },
           "baxis": {
            "gridcolor": "white",
            "linecolor": "white",
            "ticks": ""
           },
           "bgcolor": "#E5ECF6",
           "caxis": {
            "gridcolor": "white",
            "linecolor": "white",
            "ticks": ""
           }
          },
          "title": {
           "x": 0.05
          },
          "xaxis": {
           "automargin": true,
           "gridcolor": "white",
           "linecolor": "white",
           "ticks": "",
           "title": {
            "standoff": 15
           },
           "zerolinecolor": "white",
           "zerolinewidth": 2
          },
          "yaxis": {
           "automargin": true,
           "gridcolor": "white",
           "linecolor": "white",
           "ticks": "",
           "title": {
            "standoff": 15
           },
           "zerolinecolor": "white",
           "zerolinewidth": 2
          }
         }
        }
       }
      }
     },
     "metadata": {},
     "output_type": "display_data"
    }
   ],
   "source": [
    "with open('/home/cam/Documents/database_tools/notebooks/test-data.pkl', 'rb') as f:\n",
    "    data = pkl.load(f)\n",
    "\n",
    "ppg, vpg, apg = data\n",
    "pred = model.predict([ppg, vpg, apg])\n",
    "\n",
    "fig = go.Figure()\n",
    "fig.add_scatter(y=pred.reshape(-1))"
   ]
  },
  {
   "cell_type": "code",
   "execution_count": 8,
   "metadata": {},
   "outputs": [
    {
     "data": {
      "text/plain": [
       "array([[[-249.64847 ],\n",
       "        [-243.08882 ],\n",
       "        [-231.30417 ],\n",
       "        [-254.16864 ],\n",
       "        [-227.28383 ],\n",
       "        [-234.65428 ],\n",
       "        [-237.6315  ],\n",
       "        [-233.91794 ],\n",
       "        [-229.64703 ],\n",
       "        [-228.685   ],\n",
       "        [-225.28918 ],\n",
       "        [-228.36253 ],\n",
       "        [-224.42674 ],\n",
       "        [-222.7351  ],\n",
       "        [-213.87817 ],\n",
       "        [-205.18925 ],\n",
       "        [-197.94534 ],\n",
       "        [-188.81996 ],\n",
       "        [-182.18079 ],\n",
       "        [-176.9079  ],\n",
       "        [-173.89056 ],\n",
       "        [-174.46126 ],\n",
       "        [-176.37912 ],\n",
       "        [-177.64961 ],\n",
       "        [-173.63863 ],\n",
       "        [-165.26868 ],\n",
       "        [-159.89523 ],\n",
       "        [-156.50146 ],\n",
       "        [-153.26816 ],\n",
       "        [-151.87218 ],\n",
       "        [-154.2813  ],\n",
       "        [-158.57721 ],\n",
       "        [-165.68935 ],\n",
       "        [-171.1459  ],\n",
       "        [-168.80045 ],\n",
       "        [-159.03671 ],\n",
       "        [-148.24208 ],\n",
       "        [-138.46957 ],\n",
       "        [-118.47885 ],\n",
       "        [ -92.35416 ],\n",
       "        [ -75.186035],\n",
       "        [ -59.16617 ],\n",
       "        [ -40.99118 ],\n",
       "        [ -31.308899],\n",
       "        [ -28.707367],\n",
       "        [ -29.180603],\n",
       "        [ -31.080475],\n",
       "        [ -35.247498],\n",
       "        [ -40.04715 ],\n",
       "        [ -46.22415 ],\n",
       "        [ -51.14087 ],\n",
       "        [ -57.752716],\n",
       "        [ -67.19046 ],\n",
       "        [ -73.40445 ],\n",
       "        [ -86.43732 ],\n",
       "        [-100.16522 ],\n",
       "        [-110.23523 ],\n",
       "        [-117.78677 ],\n",
       "        [-121.83392 ],\n",
       "        [-121.48512 ],\n",
       "        [-122.265656],\n",
       "        [-122.41257 ],\n",
       "        [-126.03146 ],\n",
       "        [-133.69797 ],\n",
       "        [-144.9915  ],\n",
       "        [-154.92673 ],\n",
       "        [-161.25087 ],\n",
       "        [-166.4497  ],\n",
       "        [-166.01598 ],\n",
       "        [-165.12009 ],\n",
       "        [-159.73653 ],\n",
       "        [-152.96704 ],\n",
       "        [-150.124   ],\n",
       "        [-147.93222 ],\n",
       "        [-145.76054 ],\n",
       "        [-149.69678 ],\n",
       "        [-158.16145 ],\n",
       "        [-162.02812 ],\n",
       "        [-160.67084 ],\n",
       "        [-151.05554 ],\n",
       "        [-147.0694  ],\n",
       "        [-149.38676 ],\n",
       "        [-151.11699 ],\n",
       "        [-151.28375 ],\n",
       "        [-151.49738 ],\n",
       "        [-154.30783 ],\n",
       "        [-162.96446 ],\n",
       "        [-171.40767 ],\n",
       "        [-172.60559 ],\n",
       "        [-169.49612 ],\n",
       "        [-167.64127 ],\n",
       "        [-167.64192 ],\n",
       "        [-173.80806 ],\n",
       "        [-181.07787 ],\n",
       "        [-189.15257 ],\n",
       "        [-198.60411 ],\n",
       "        [-207.4307  ],\n",
       "        [-219.71307 ],\n",
       "        [-230.88745 ],\n",
       "        [-239.70972 ],\n",
       "        [-245.9828  ],\n",
       "        [-251.11469 ],\n",
       "        [-254.20413 ],\n",
       "        [-255.13388 ],\n",
       "        [-254.99675 ],\n",
       "        [-252.37045 ],\n",
       "        [-249.49933 ],\n",
       "        [-244.08047 ],\n",
       "        [-239.93173 ],\n",
       "        [-235.01402 ],\n",
       "        [-231.67886 ],\n",
       "        [-225.01186 ],\n",
       "        [-217.84395 ],\n",
       "        [-209.65837 ],\n",
       "        [-206.81255 ],\n",
       "        [-203.93758 ],\n",
       "        [-192.75098 ],\n",
       "        [-185.43216 ],\n",
       "        [-178.89935 ],\n",
       "        [-170.05345 ],\n",
       "        [-170.42267 ],\n",
       "        [-176.75095 ],\n",
       "        [-194.18413 ],\n",
       "        [-203.03006 ],\n",
       "        [-201.78336 ],\n",
       "        [-197.33737 ],\n",
       "        [-194.4054  ],\n",
       "        [-190.0447  ],\n",
       "        [-184.70555 ],\n",
       "        [-167.40532 ],\n",
       "        [-140.40862 ],\n",
       "        [-110.003296],\n",
       "        [ -85.47525 ],\n",
       "        [ -68.345245],\n",
       "        [ -55.122986],\n",
       "        [ -46.652832],\n",
       "        [ -43.969574],\n",
       "        [ -44.214233],\n",
       "        [ -45.16501 ],\n",
       "        [ -47.72046 ],\n",
       "        [ -50.289764],\n",
       "        [ -53.516724],\n",
       "        [ -56.38388 ],\n",
       "        [ -61.598755],\n",
       "        [ -65.77121 ],\n",
       "        [ -69.75363 ],\n",
       "        [ -73.86856 ],\n",
       "        [ -76.092285],\n",
       "        [ -80.35495 ],\n",
       "        [ -81.99335 ],\n",
       "        [ -80.954254],\n",
       "        [ -77.09485 ],\n",
       "        [ -76.37915 ],\n",
       "        [ -81.510254],\n",
       "        [ -88.99582 ],\n",
       "        [ -98.39914 ],\n",
       "        [-105.21146 ],\n",
       "        [-109.7247  ],\n",
       "        [-119.02089 ],\n",
       "        [-126.61215 ],\n",
       "        [-129.39587 ],\n",
       "        [-127.55002 ],\n",
       "        [-123.7484  ],\n",
       "        [-121.61983 ],\n",
       "        [-117.54001 ],\n",
       "        [-116.01233 ],\n",
       "        [-113.74246 ],\n",
       "        [-113.307556],\n",
       "        [-119.17908 ],\n",
       "        [-126.8385  ],\n",
       "        [-132.93048 ],\n",
       "        [-136.86563 ],\n",
       "        [-137.85185 ],\n",
       "        [-134.97499 ],\n",
       "        [-134.25284 ],\n",
       "        [-135.01823 ],\n",
       "        [-140.16489 ],\n",
       "        [-148.09659 ],\n",
       "        [-158.2143  ],\n",
       "        [-162.6121  ],\n",
       "        [-162.19455 ],\n",
       "        [-161.95021 ],\n",
       "        [-162.22108 ],\n",
       "        [-162.12186 ],\n",
       "        [-165.73776 ],\n",
       "        [-168.53445 ],\n",
       "        [-172.92787 ],\n",
       "        [-183.54056 ],\n",
       "        [-192.33882 ],\n",
       "        [-203.85812 ],\n",
       "        [-211.59235 ],\n",
       "        [-220.55315 ],\n",
       "        [-224.09799 ],\n",
       "        [-227.52637 ],\n",
       "        [-226.95    ],\n",
       "        [-227.58612 ],\n",
       "        [-227.73131 ],\n",
       "        [-224.6791  ],\n",
       "        [-220.32823 ],\n",
       "        [-214.37071 ],\n",
       "        [-212.86942 ],\n",
       "        [-207.28772 ],\n",
       "        [-204.39539 ],\n",
       "        [-202.2739  ],\n",
       "        [-201.9598  ],\n",
       "        [-198.24817 ],\n",
       "        [-195.30801 ],\n",
       "        [-194.94267 ],\n",
       "        [-197.18721 ],\n",
       "        [-200.12964 ],\n",
       "        [-203.48788 ],\n",
       "        [-203.75508 ],\n",
       "        [-204.40146 ],\n",
       "        [-203.0739  ],\n",
       "        [-202.64362 ],\n",
       "        [-206.16473 ],\n",
       "        [-211.12491 ],\n",
       "        [-208.78322 ],\n",
       "        [-195.52841 ],\n",
       "        [-180.7935  ],\n",
       "        [-169.73471 ],\n",
       "        [-159.30165 ],\n",
       "        [-152.36433 ],\n",
       "        [-137.4856  ],\n",
       "        [-113.313354],\n",
       "        [ -96.00284 ],\n",
       "        [ -86.02826 ],\n",
       "        [ -82.02225 ],\n",
       "        [ -77.30591 ],\n",
       "        [ -64.713196],\n",
       "        [ -59.3732  ],\n",
       "        [ -56.80481 ],\n",
       "        [ -56.89966 ],\n",
       "        [ -51.375214],\n",
       "        [ -44.70691 ],\n",
       "        [ -44.424927],\n",
       "        [ -49.788116],\n",
       "        [ -55.17865 ],\n",
       "        [ -63.560486],\n",
       "        [ -65.85785 ],\n",
       "        [ -68.85321 ],\n",
       "        [ -74.33148 ],\n",
       "        [ -78.542206],\n",
       "        [ -79.583496],\n",
       "        [ -81.179016],\n",
       "        [ -80.96976 ],\n",
       "        [ -79.913574],\n",
       "        [ -84.89572 ],\n",
       "        [ -87.82141 ],\n",
       "        [ -79.96228 ],\n",
       "        [ -89.13159 ],\n",
       "        [ -80.83414 ],\n",
       "        [ -53.668274],\n",
       "        [ -41.279053],\n",
       "        [ -17.636932],\n",
       "        [ -54.327026]]], dtype=float32)"
      ]
     },
     "execution_count": 8,
     "metadata": {},
     "output_type": "execute_result"
    }
   ],
   "source": [
    "pred_rescaled"
   ]
  },
  {
   "cell_type": "code",
   "execution_count": null,
   "metadata": {},
   "outputs": [],
   "source": [
    "import pickle as pkl\n",
    "\n",
    "with open('/home/cam/Documents/database_tools/data/mimic3-data-20230220/data/stoic_music_1_v8_test_results.pkl', 'wb') as f:\n",
    "    pkl.dump(dict(\n",
    "        error=error,\n",
    "        ppg=ppg,\n",
    "        vpg=vpg,\n",
    "        apg=apg,\n",
    "        abp=abp,\n",
    "        pred=pred,\n",
    "    ), f)"
   ]
  },
  {
   "cell_type": "code",
   "execution_count": null,
   "metadata": {},
   "outputs": [],
   "source": [
    "import pickle as pkl\n",
    "\n",
    "with open('/home/cam/Documents/database_tools/data/mimic3-data-20230220/data/test_results.pkl', 'rb') as f:\n",
    "    x = pkl.load(f)"
   ]
  },
  {
   "attachments": {},
   "cell_type": "markdown",
   "metadata": {},
   "source": [
    "# breezy-wind-80:v8\n",
    "\n",
    "### MIMIC-III 30k Test Results (max, min method)\n",
    "\n",
    "|   Error  | Systolic | Diastolic |\n",
    "|   -:     | -:       | -:        |\n",
    "| < 15mmHg | 72.6%    | 89.5%     |\n",
    "| < 10mmHg | 59.1%    | 80.2%     |\n",
    "| <  5mmHg | 36.1%    | 59.4%     |\n",
    "\n",
    "### VitalDB 30k Test Results\n",
    "\n",
    "|   Error  | Systolic | Diastolic |\n",
    "|   -:     | -:       | -:        |\n",
    "| < 15mmHg | %    | %     |\n",
    "| < 10mmHg | %    | %     |\n",
    "| <  5mmHg | %    | %     |"
   ]
  },
  {
   "attachments": {},
   "cell_type": "markdown",
   "metadata": {},
   "source": [
    "# breezy-wind-80:v8\n",
    "\n",
    "### MIMIC-III 30k Test Results (peak, valley method)\n",
    "\n",
    "|   Error  | Systolic | Diastolic |\n",
    "|   -:     | -:       | -:        |\n",
    "| < 15mmHg | 76.9%    | 77.9%     |\n",
    "| < 10mmHg | 63.5%    | 70.4%     |\n",
    "| <  5mmHg | 40.5%    | 53.9%     |"
   ]
  },
  {
   "cell_type": "code",
   "execution_count": null,
   "metadata": {},
   "outputs": [],
   "source": [
    "import pandas as pd\n",
    "import plotly.graph_objects as go\n",
    "\n",
    "pd.options.plotting.backend = 'plotly'\n",
    "\n",
    "fig = go.Figure()\n",
    "fig.add_trace(go.Histogram(x=error['sbp_err'], name='SBP Error'))\n",
    "fig.add_trace(go.Histogram(x=error['dbp_err'], name='DBP Error'))\n",
    "\n",
    "fig.update_layout(\n",
    "        barmode='overlay',\n",
    "        title={\n",
    "            'text': 'Model Prediction Error Histogram',\n",
    "            'font': {'size': 20},\n",
    "        },\n",
    "        xaxis={'title': 'Error (mmHg)', 'titlefont':{'size': 15}},\n",
    "        yaxis={'title': 'Number of Samples', 'titlefont':{'size': 15}},\n",
    "        font={\n",
    "            'family': 'Courier New, monospace',\n",
    "            'color' : '#FFFFFF',\n",
    "            'size'  : 12,\n",
    "        },\n",
    "        template='plotly_dark',\n",
    "        width=800,\n",
    ")\n",
    "fig\n",
    "fig.update_traces(opacity=0.75)"
   ]
  },
  {
   "cell_type": "code",
   "execution_count": null,
   "metadata": {},
   "outputs": [],
   "source": [
    "import plotly.graph_objects as go\n",
    "from random import randint\n",
    "from scipy.signal import find_peaks\n",
    "\n",
    "fig = go.Figure()\n",
    "i = randint(0, 29999)\n",
    "\n",
    "peaks = find_peaks(abp[i], distance=50)[0]\n",
    "\n",
    "fig.add_scatter(x=peaks, y=abp[i][peaks], mode='markers')\n",
    "fig.add_scatter(y=abp[i], name='true')\n",
    "fig.add_scatter(y=pred[i], name='pred')"
   ]
  },
  {
   "cell_type": "code",
   "execution_count": null,
   "metadata": {},
   "outputs": [],
   "source": [
    "from plotly.subplots import make_subplots\n",
    "\n",
    "i = 18\n",
    "ppg, vpg, apg, abp, pred = None\n",
    "\n",
    "fig = make_subplots(rows=2, cols=1, start_cell='top-left')\n",
    "\n",
    "# Add inputs\n",
    "fig.add_scatter(\n",
    "    y=ppg[i, :],\n",
    "    name='PPG',\n",
    "    row=1,\n",
    "    col=1,\n",
    ")\n",
    "fig.add_scatter(\n",
    "    y=vpg[i, :] * 10,\n",
    "    name='VPG',\n",
    "    row=1,\n",
    "    col=1,\n",
    ")\n",
    "fig.add_scatter(\n",
    "    y=apg[i, :] * 50,\n",
    "    name='APG',\n",
    "    row=1,\n",
    "    col=1,\n",
    ")\n",
    "\n",
    "# Add ABP and prediction\n",
    "fig.add_scatter(\n",
    "    y=abp[i, :],\n",
    "    name='ABP (Ground Truth)',\n",
    "    row=2,\n",
    "    col=1\n",
    ")\n",
    "fig.add_scatter(\n",
    "    y=pred[i, :],\n",
    "    name='Prediction',\n",
    "    row=2,\n",
    "    col=1,\n",
    ")\n",
    "\n",
    "fig.update_layout(\n",
    "        title={\n",
    "            'text': 'Model Inputs (PPG, VPG, APG) and Module Output w/ True ABP',\n",
    "            'font': {'size': 20},\n",
    "        },\n",
    "        xaxis2={'title': 'Time (samples)', 'titlefont':{'size': 15}},\n",
    "        yaxis={'title': 'Amplitude (V)', 'titlefont':{'size': 15}},\n",
    "        yaxis2={'title': 'Amplitude (mmHg)', 'titlefont':{'size': 15}},\n",
    "        font={\n",
    "            'family': 'Courier New, monospace',\n",
    "            'color' : '#FFFFFF',\n",
    "            'size'  : 12,\n",
    "        },\n",
    "        template='plotly_dark',\n",
    "        width=800,\n",
    ")\n",
    "fig"
   ]
  }
 ],
 "metadata": {
  "kernelspec": {
   "display_name": "enceladus-w-_QEyfy-py3.9",
   "language": "python",
   "name": "python3"
  },
  "language_info": {
   "codemirror_mode": {
    "name": "ipython",
    "version": 3
   },
   "file_extension": ".py",
   "mimetype": "text/x-python",
   "name": "python",
   "nbconvert_exporter": "python",
   "pygments_lexer": "ipython3",
   "version": "3.9.16"
  },
  "orig_nbformat": 4,
  "vscode": {
   "interpreter": {
    "hash": "32db32f0218b6b96da4712f2a68dfad516c8744583a5e43ba77c08ec53bc2944"
   }
  }
 },
 "nbformat": 4,
 "nbformat_minor": 2
}
