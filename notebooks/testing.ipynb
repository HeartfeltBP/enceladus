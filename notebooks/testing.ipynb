{
 "cells": [
  {
   "cell_type": "code",
   "execution_count": null,
   "metadata": {},
   "outputs": [],
   "source": [
    "import pandas as pd\n",
    "from enceladus.workflows import TestingPipeline\n",
    "\n",
    "worker = TestingPipeline(\n",
    "    data_dir='/home/cam/Documents/database_tools/data/mimic3-data-20230405/data/',\n",
    "    model_dir='heartfelt/enceladus-fine-tuning/model-vulcan-dominion-2:v0',\n",
    "    scaler_dir='/home/cam/Documents/database_tools/data/mimic3-data-20230405/records_info_1680799732178117604.pkl',\n",
    ")\n",
    "\n",
    "# returns rescaled data\n",
    "error, ppg, vpg, apg, abp, pred = worker.run()"
   ]
  },
  {
   "cell_type": "code",
   "execution_count": null,
   "metadata": {},
   "outputs": [],
   "source": [
    "import pickle as pkl\n",
    "\n",
    "with open('/home/cam/Documents/database_tools/data/mimic3-data-20230405/records_info_1680799732178117604.pkl', 'rb') as f:\n",
    "    scalers, _ = pkl.load(f)\n",
    "scalers"
   ]
  },
  {
   "attachments": {},
   "cell_type": "markdown",
   "metadata": {},
   "source": [
    "# breezy-wind-80:v8\n",
    "\n",
    "### MIMIC-III 30k Test Results (max, min method)\n",
    "\n",
    "|   Error  | Systolic | Diastolic |\n",
    "|   -:     | -:       | -:        |\n",
    "| < 15mmHg | 72.6%    | 89.5%     |\n",
    "| < 10mmHg | 59.1%    | 80.2%     |\n",
    "| <  5mmHg | 36.1%    | 59.4%     |\n",
    "\n",
    "### VitalDB 30k Test Results\n",
    "\n",
    "|   Error  | Systolic | Diastolic |\n",
    "|   -:     | -:       | -:        |\n",
    "| < 15mmHg | %    | %     |\n",
    "| < 10mmHg | %    | %     |\n",
    "| <  5mmHg | %    | %     |"
   ]
  },
  {
   "attachments": {},
   "cell_type": "markdown",
   "metadata": {},
   "source": [
    "# breezy-wind-80:v8\n",
    "\n",
    "### MIMIC-III 30k Test Results (peak, valley method)\n",
    "\n",
    "|   Error  | Systolic | Diastolic |\n",
    "|   -:     | -:       | -:        |\n",
    "| < 15mmHg | 76.9%    | 77.9%     |\n",
    "| < 10mmHg | 63.5%    | 70.4%     |\n",
    "| <  5mmHg | 40.5%    | 53.9%     |"
   ]
  },
  {
   "cell_type": "code",
   "execution_count": null,
   "metadata": {},
   "outputs": [],
   "source": [
    "import pandas as pd\n",
    "import plotly.graph_objects as go\n",
    "\n",
    "pd.options.plotting.backend = 'plotly'\n",
    "\n",
    "fig = go.Figure()\n",
    "fig.add_trace(go.Histogram(x=error['sbp_err'], name='SBP Error'))\n",
    "fig.add_trace(go.Histogram(x=error['dbp_err'], name='DBP Error'))\n",
    "\n",
    "fig.update_layout(\n",
    "        barmode='overlay',\n",
    "        title={\n",
    "            'text': 'Model Prediction Error Histogram',\n",
    "            'font': {'size': 20},\n",
    "        },\n",
    "        xaxis={'title': 'Error (mmHg)', 'titlefont':{'size': 15}},\n",
    "        yaxis={'title': 'Number of Samples', 'titlefont':{'size': 15}},\n",
    "        font={\n",
    "            'family': 'Courier New, monospace',\n",
    "            'color' : '#FFFFFF',\n",
    "            'size'  : 12,\n",
    "        },\n",
    "        template='plotly_dark',\n",
    "        width=800,\n",
    ")\n",
    "fig\n",
    "fig.update_traces(opacity=0.75)"
   ]
  },
  {
   "cell_type": "code",
   "execution_count": null,
   "metadata": {},
   "outputs": [],
   "source": [
    "import plotly.graph_objects as go\n",
    "from random import randint\n",
    "from scipy.signal import find_peaks\n",
    "\n",
    "fig = go.Figure()\n",
    "i = randint(0, 29999)\n",
    "\n",
    "peaks = find_peaks(abp[i], distance=50)[0]\n",
    "\n",
    "fig.add_scatter(x=peaks, y=abp[i][peaks], mode='markers')\n",
    "fig.add_scatter(y=abp[i], name='true')\n",
    "fig.add_scatter(y=pred[i], name='pred')"
   ]
  },
  {
   "cell_type": "code",
   "execution_count": null,
   "metadata": {},
   "outputs": [],
   "source": [
    "from plotly.subplots import make_subplots\n",
    "\n",
    "i = 18\n",
    "ppg, vpg, apg, abp, pred = None\n",
    "\n",
    "fig = make_subplots(rows=2, cols=1, start_cell='top-left')\n",
    "\n",
    "# Add inputs\n",
    "fig.add_scatter(\n",
    "    y=ppg[i, :],\n",
    "    name='PPG',\n",
    "    row=1,\n",
    "    col=1,\n",
    ")\n",
    "fig.add_scatter(\n",
    "    y=vpg[i, :] * 10,\n",
    "    name='VPG',\n",
    "    row=1,\n",
    "    col=1,\n",
    ")\n",
    "fig.add_scatter(\n",
    "    y=apg[i, :] * 50,\n",
    "    name='APG',\n",
    "    row=1,\n",
    "    col=1,\n",
    ")\n",
    "\n",
    "# Add ABP and prediction\n",
    "fig.add_scatter(\n",
    "    y=abp[i, :],\n",
    "    name='ABP (Ground Truth)',\n",
    "    row=2,\n",
    "    col=1\n",
    ")\n",
    "fig.add_scatter(\n",
    "    y=pred[i, :],\n",
    "    name='Prediction',\n",
    "    row=2,\n",
    "    col=1,\n",
    ")\n",
    "\n",
    "fig.update_layout(\n",
    "        title={\n",
    "            'text': 'Model Inputs (PPG, VPG, APG) and Module Output w/ True ABP',\n",
    "            'font': {'size': 20},\n",
    "        },\n",
    "        xaxis2={'title': 'Time (samples)', 'titlefont':{'size': 15}},\n",
    "        yaxis={'title': 'Amplitude (V)', 'titlefont':{'size': 15}},\n",
    "        yaxis2={'title': 'Amplitude (mmHg)', 'titlefont':{'size': 15}},\n",
    "        font={\n",
    "            'family': 'Courier New, monospace',\n",
    "            'color' : '#FFFFFF',\n",
    "            'size'  : 12,\n",
    "        },\n",
    "        template='plotly_dark',\n",
    "        width=800,\n",
    ")\n",
    "fig"
   ]
  }
 ],
 "metadata": {
  "kernelspec": {
   "display_name": "enceladus-w-_QEyfy-py3.9",
   "language": "python",
   "name": "python3"
  },
  "language_info": {
   "codemirror_mode": {
    "name": "ipython",
    "version": 3
   },
   "file_extension": ".py",
   "mimetype": "text/x-python",
   "name": "python",
   "nbconvert_exporter": "python",
   "pygments_lexer": "ipython3",
   "version": "3.9.16"
  },
  "orig_nbformat": 4,
  "vscode": {
   "interpreter": {
    "hash": "32db32f0218b6b96da4712f2a68dfad516c8744583a5e43ba77c08ec53bc2944"
   }
  }
 },
 "nbformat": 4,
 "nbformat_minor": 2
}
