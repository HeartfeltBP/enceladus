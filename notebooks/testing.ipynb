{
 "cells": [
  {
   "cell_type": "code",
   "execution_count": null,
   "metadata": {},
   "outputs": [],
   "source": [
    "import pandas as pd\n",
    "import plotly.graph_objects as go\n",
    "from enceladus.workflows import TestingPipeline"
   ]
  },
  {
   "attachments": {},
   "cell_type": "markdown",
   "metadata": {},
   "source": [
    "# Make Predictions\n",
    "\n",
    "- Generate predictions on test data\n",
    "- Find peaks and troughs to get SBP and DBP\n",
    "- Calculate absolute error of BP estimations\n",
    "\n",
    "## Error Grading System (British Hypertension Society Standard)\n",
    "|         | <5 mmHg | <10 mmHg | <15 mmHg |\n",
    "|   -:    | -:      | -:       | -:       |\n",
    "| Grade A | 60%     | 85%      | 95%      |\n",
    "| Grade B | 50%     | 75%      | 90%      |  \n",
    "| Grade C | 40%     | 65%      | 85%      |"
   ]
  },
  {
   "attachments": {},
   "cell_type": "markdown",
   "metadata": {},
   "source": [
    "### MIMIC-III 50k (20230405) Test Results (serene-aardvark-11:v14)\n",
    "\n",
    "|   Error  | Systolic | Diastolic |\n",
    "|   -:     | -:       | -:        |\n",
    "| < 15mmHg | 90.8%    | 97.3%     |\n",
    "| < 10mmHg | 82.0%    | 94.4%     |\n",
    "| <  5mmHg | 61.2%    | 83.4%     |\n",
    "\n",
    "### MIMIC-III 200k (20230407) Test Results (glorious-fog-21:v5)\n",
    "\n",
    "|   Error  | Systolic | Diastolic |\n",
    "|   -:     | -:       | -:        |\n",
    "| < 15mmHg | 82.6%    | 94.2%     |\n",
    "| < 10mmHg | 71.2%    | 87.4%     |\n",
    "| <  5mmHg | 48.1%    | 69.1%     |\n",
    "\n",
    "### MIMIC-III 200k (20230408) Test Results (neat-voice-24:v11)\n",
    "\n",
    "|   Error  | Systolic | Diastolic |\n",
    "|   -:     | -:       | -:        |\n",
    "| < 15mmHg | 86.3%    | 95.7%     |\n",
    "| < 10mmHg | 76.8%    | 90.8%     |\n",
    "| <  5mmHg | 55.7%    | 76.2%     |"
   ]
  },
  {
   "cell_type": "code",
   "execution_count": null,
   "metadata": {},
   "outputs": [],
   "source": [
    "worker = TestingPipeline(\n",
    "    data_dir='/home/camhpjohnson/data/mimic3-data-20230408/data/',\n",
    "    model_dir='heartfelt/enceladus-fine-tuning/model-neat-voice-24:v11',\n",
    ")\n",
    "\n",
    "error, ppg, vpg, apg, abp, pred = worker.run()"
   ]
  },
  {
   "cell_type": "code",
   "execution_count": null,
   "metadata": {},
   "outputs": [],
   "source": [
    "fig = go.Figure()\n",
    "\n",
    "i = 3\n",
    "fig.add_scatter(y=ppg[i, :]*80, name='ppg')\n",
    "fig.add_scatter(y=abp[i, :], name='true')\n",
    "fig.add_scatter(y=pred[i, :], name='pred')"
   ]
  },
  {
   "cell_type": "code",
   "execution_count": null,
   "metadata": {},
   "outputs": [],
   "source": [
    "pd.options.plotting.backend = 'plotly'\n",
    "\n",
    "fig = go.Figure()\n",
    "fig.add_trace(go.Histogram(x=error['sbp_err'], name='SBP Error'))\n",
    "fig.add_trace(go.Histogram(x=error['dbp_err'], name='DBP Error', opacity=0.5))\n",
    "\n",
    "fig.update_layout(\n",
    "        barmode='overlay',\n",
    "        title={\n",
    "            'text': 'Model Prediction Error Histogram',\n",
    "            'font': {'size': 20},\n",
    "        },\n",
    "        xaxis={'title': 'Error (mmHg)', 'titlefont':{'size': 15}},\n",
    "        yaxis={'title': 'Number of Samples', 'titlefont':{'size': 15}},\n",
    "        font={\n",
    "            'family': 'Courier New, monospace',\n",
    "            'color' : '#FFFFFF',\n",
    "            'size'  : 12,\n",
    "        },\n",
    "        template='plotly_dark',\n",
    "        width=800,\n",
    ")\n",
    "fig.update_layout(\n",
    "    plot_bgcolor='rgb(22,22,22)',\n",
    "    paper_bgcolor='rgb(22,22,22)',\n",
    ")\n",
    "fig"
   ]
  },
  {
   "cell_type": "code",
   "execution_count": null,
   "metadata": {},
   "outputs": [],
   "source": [
    "import plotly.graph_objects as go\n",
    "\n",
    "i = 1\n",
    "\n",
    "fig = go.Figure()\n",
    "\n",
    "fig.add_scatter(\n",
    "    y=abp[i, :],\n",
    "    name='ABP (Ground Truth)',\n",
    ")\n",
    "fig.add_scatter(\n",
    "    y=pred[i, :],\n",
    "    name='Prediction',\n",
    ")\n",
    "\n",
    "fig.update_layout(\n",
    "        title={\n",
    "            'text': 'Prediction v Ground Truth',\n",
    "            'font': {'size': 20},\n",
    "        },\n",
    "        xaxis={'title': 'Time (samples)', 'titlefont':{'size': 15}},\n",
    "        yaxis={'title': 'Amplitude (mmHg)', 'titlefont':{'size': 15}},\n",
    "        font={\n",
    "            'family': 'Courier New, monospace',\n",
    "            'color' : '#FFFFFF',\n",
    "            'size'  : 12,\n",
    "        },\n",
    "        template='plotly_dark',\n",
    "        width=800,\n",
    ")\n",
    "fig.update_layout(\n",
    "    plot_bgcolor='rgb(22,22,22)',\n",
    "    paper_bgcolor='rgb(22,22,22)',\n",
    ")\n",
    "\n",
    "fig"
   ]
  }
 ],
 "metadata": {
  "kernelspec": {
   "display_name": "heartfelt-tools-Qo_l_FwJ-py3.9",
   "language": "python",
   "name": "python3"
  },
  "language_info": {
   "codemirror_mode": {
    "name": "ipython",
    "version": 3
   },
   "file_extension": ".py",
   "mimetype": "text/x-python",
   "name": "python",
   "nbconvert_exporter": "python",
   "pygments_lexer": "ipython3",
   "version": "3.9.16"
  },
  "orig_nbformat": 4,
  "vscode": {
   "interpreter": {
    "hash": "11be1819121c33cfc84416af11ffbdbeaf074b50fda951b7acc91346a1aaeb2e"
   }
  }
 },
 "nbformat": 4,
 "nbformat_minor": 2
}
