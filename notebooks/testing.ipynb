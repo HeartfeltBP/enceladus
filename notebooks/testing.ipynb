{
 "cells": [
  {
   "cell_type": "code",
   "execution_count": null,
   "metadata": {},
   "outputs": [],
   "source": [
    "from Enceladus.jobs import TestingPipeline\n",
    "\n",
    "TestingPipeline(\n",
    "    data_path='/home/cam/Documents/database_tools/data-2022-11-08/mimic3/',\n",
    "    scaler_path='/home/cam/Documents/database_tools/data-2022-11-08/mimic3/scalers_MinMax.pkl',\n",
    "    scaler_type='MinMax',\n",
    "    model_path='heartfelt/Enceladus/model-vital-bee-206:v19',\n",
    ").run()"
   ]
  },
  {
   "cell_type": "code",
   "execution_count": null,
   "metadata": {},
   "outputs": [],
   "source": [
    "import numpy as np\n",
    "import pandas as pd\n",
    "import pickle as pkl\n",
    "\n",
    "with open('model-vital-bee-206:v19_error.pkl', 'rb') as f:\n",
    "    data = pkl.load(f)\n",
    "\n",
    "print(np.mean(data['sbp_abs_err']), np.mean(data['dbp_abs_err']))"
   ]
  },
  {
   "cell_type": "code",
   "execution_count": null,
   "metadata": {},
   "outputs": [],
   "source": [
    "import plotly.graph_objects as go\n",
    "\n",
    "pd.options.plotting.backend = 'plotly'\n",
    "\n",
    "fig = go.Figure()\n",
    "fig.add_trace(go.Histogram(x=data['sbp_err'], name='SBP Error'))\n",
    "fig.add_trace(go.Histogram(x=data['dbp_err'], name='DBP Error'))\n",
    "\n",
    "fig.update_layout(\n",
    "        barmode='overlay',\n",
    "        title={\n",
    "            'text': 'Model Prediction Error Histogram',\n",
    "            'font': {'size': 20},\n",
    "        },\n",
    "        xaxis={'title': 'Error (mmHg)', 'titlefont':{'size': 15}},\n",
    "        yaxis={'title': 'Number of Samples', 'titlefont':{'size': 15}},\n",
    "        font={\n",
    "            'family': 'Courier New, monospace',\n",
    "            'color' : '#FFFFFF',\n",
    "            'size'  : 12,\n",
    "        },\n",
    "        template='plotly_dark',\n",
    "        width=800,\n",
    ")\n",
    "fig\n",
    "fig.update_traces(opacity=0.75)\n",
    "\n",
    "fig"
   ]
  },
  {
   "cell_type": "code",
   "execution_count": null,
   "metadata": {},
   "outputs": [],
   "source": [
    "import numpy as np\n",
    "import pandas as pd\n",
    "import pickle as pkl\n",
    "from plotly.subplots import make_subplots\n",
    "\n",
    "with open('model-vital-bee-206:v19_predictions.pkl', 'rb') as f:\n",
    "    data = pkl.load(f)\n",
    "    \n",
    "ppg, vpg, apg, abp, pred = data.values()"
   ]
  },
  {
   "cell_type": "code",
   "execution_count": null,
   "metadata": {},
   "outputs": [],
   "source": [
    "i = 18"
   ]
  },
  {
   "cell_type": "code",
   "execution_count": null,
   "metadata": {},
   "outputs": [],
   "source": [
    "fig = make_subplots(rows=2, cols=1, start_cell='top-left')\n",
    "\n",
    "# Add inputs\n",
    "fig.add_scatter(\n",
    "    y=ppg[i, :],\n",
    "    name='PPG',\n",
    "    row=1,\n",
    "    col=1,\n",
    ")\n",
    "fig.add_scatter(\n",
    "    y=vpg[i, :] * 10,\n",
    "    name='VPG',\n",
    "    row=1,\n",
    "    col=1,\n",
    ")\n",
    "fig.add_scatter(\n",
    "    y=apg[i, :] * 50,\n",
    "    name='APG',\n",
    "    row=1,\n",
    "    col=1,\n",
    ")\n",
    "\n",
    "# Add ABP and prediction\n",
    "fig.add_scatter(\n",
    "    y=abp[i, :],\n",
    "    name='ABP (Ground Truth)',\n",
    "    row=2,\n",
    "    col=1\n",
    ")\n",
    "fig.add_scatter(\n",
    "    y=pred[i, :],\n",
    "    name='Prediction',\n",
    "    row=2,\n",
    "    col=1,\n",
    ")\n",
    "\n",
    "fig.update_layout(\n",
    "        title={\n",
    "            'text': 'Model Inputs (PPG, VPG, APG) and Module Output w/ True ABP',\n",
    "            'font': {'size': 20},\n",
    "        },\n",
    "        xaxis2={'title': 'Time (samples)', 'titlefont':{'size': 15}},\n",
    "        yaxis={'title': 'Amplitude (V)', 'titlefont':{'size': 15}},\n",
    "        yaxis2={'title': 'Amplitude (mmHg)', 'titlefont':{'size': 15}},\n",
    "        font={\n",
    "            'family': 'Courier New, monospace',\n",
    "            'color' : '#FFFFFF',\n",
    "            'size'  : 12,\n",
    "        },\n",
    "        template='plotly_dark',\n",
    "        width=800,\n",
    ")\n",
    "fig"
   ]
  }
 ],
 "metadata": {
  "kernelspec": {
   "display_name": "enceladus-KRa0cCkj-py3.8",
   "language": "python",
   "name": "python3"
  },
  "language_info": {
   "codemirror_mode": {
    "name": "ipython",
    "version": 3
   },
   "file_extension": ".py",
   "mimetype": "text/x-python",
   "name": "python",
   "nbconvert_exporter": "python",
   "pygments_lexer": "ipython3",
   "version": "3.8.13"
  },
  "orig_nbformat": 4,
  "vscode": {
   "interpreter": {
    "hash": "5ade12cb1b75b1f42951472efc0610a14d58a4335c0c3e2443ae63ff35fd8ec0"
   }
  }
 },
 "nbformat": 4,
 "nbformat_minor": 2
}
