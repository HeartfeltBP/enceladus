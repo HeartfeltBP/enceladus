{
 "cells": [
  {
   "cell_type": "code",
   "execution_count": null,
   "metadata": {},
   "outputs": [],
   "source": [
    "from enceladus.jobs import TestingPipeline\n",
    "\n",
    "ppg, vpg, apg, abp = TestingPipeline(\n",
    "    data_path='/home/cam/Documents/database_tools/data/data-2022-11-08/mimic3/',\n",
    "    scaler_path='/home/cam/Documents/database_tools/data/data-2022-11-08/mimic3/scalers_MinMax.pkl',\n",
    "    scaler_type='MinMax',\n",
    "    model_path='heartfelt/Enceladus/model-vital-bee-206:v19',\n",
    ").run()"
   ]
  },
  {
   "cell_type": "code",
   "execution_count": null,
   "metadata": {},
   "outputs": [],
   "source": [
    "import numpy as np\n",
    "from google.cloud import aiplatform\n",
    "\n",
    "GOOGLE_CLOUD_PROJECT = 'heartfelt-0'\n",
    "GOOGLE_CLOUD_REGION = 'us-central1'\n",
    "ENDPOINT_ID = 4207052545266286592\n",
    "\n",
    "# The AI Platform services require regional API endpoints.\n",
    "client_options = {\n",
    "    'api_endpoint': GOOGLE_CLOUD_REGION + '-aiplatform.googleapis.com'\n",
    "    }\n",
    "# Initialize client that will be used to create and send requests.\n",
    "client = aiplatform.gapic.PredictionServiceClient(client_options=client_options)\n",
    "\n",
    "# Set data values for the prediction request.\n",
    "instances = [{'ppg': ppg[0, :].reshape(256, 1).tolist(),\n",
    "              'vpg': vpg[0, :].reshape(256, 1).tolist(),\n",
    "              'apg': apg[0, :].reshape(256, 1).tolist(),\n",
    "}]\n",
    "\n",
    "endpoint = client.endpoint_path(\n",
    "    project=GOOGLE_CLOUD_PROJECT,\n",
    "    location=GOOGLE_CLOUD_REGION,\n",
    "    endpoint=ENDPOINT_ID,\n",
    ")\n",
    "# Send a prediction request and get response.\n",
    "response = client.predict(endpoint=endpoint, instances=instances, parameters={'signature_name': 'serving_default'})\n",
    "\n",
    "pred = np.array(response.predictions[0]).flatten()"
   ]
  },
  {
   "cell_type": "code",
   "execution_count": null,
   "metadata": {},
   "outputs": [],
   "source": [
    "import pandas as pd\n",
    "\n",
    "pd.options.plotting.backend = 'plotly'\n",
    "\n",
    "pd.Series(pred).plot()"
   ]
  },
  {
   "cell_type": "code",
   "execution_count": null,
   "metadata": {},
   "outputs": [],
   "source": [
    "ppg[0, :].reshape(1, 256).tolist()"
   ]
  },
  {
   "cell_type": "code",
   "execution_count": null,
   "metadata": {},
   "outputs": [],
   "source": [
    "import numpy as np\n",
    "import pandas as pd\n",
    "import pickle as pkl\n",
    "\n",
    "with open('model-vital-bee-206:v19_error.pkl', 'rb') as f:\n",
    "    data = pkl.load(f)\n",
    "\n",
    "print(np.mean(data['sbp_abs_err']), np.mean(data['dbp_abs_err']))"
   ]
  },
  {
   "cell_type": "code",
   "execution_count": null,
   "metadata": {},
   "outputs": [],
   "source": [
    "import plotly.graph_objects as go\n",
    "\n",
    "pd.options.plotting.backend = 'plotly'\n",
    "\n",
    "fig = go.Figure()\n",
    "fig.add_trace(go.Histogram(x=data['sbp_err'], name='SBP Error'))\n",
    "fig.add_trace(go.Histogram(x=data['dbp_err'], name='DBP Error'))\n",
    "\n",
    "fig.update_layout(\n",
    "        barmode='overlay',\n",
    "        title={\n",
    "            'text': 'Model Prediction Error Histogram',\n",
    "            'font': {'size': 20},\n",
    "        },\n",
    "        xaxis={'title': 'Error (mmHg)', 'titlefont':{'size': 15}},\n",
    "        yaxis={'title': 'Number of Samples', 'titlefont':{'size': 15}},\n",
    "        font={\n",
    "            'family': 'Courier New, monospace',\n",
    "            'color' : '#FFFFFF',\n",
    "            'size'  : 12,\n",
    "        },\n",
    "        template='plotly_dark',\n",
    "        width=800,\n",
    ")\n",
    "fig\n",
    "fig.update_traces(opacity=0.75)\n",
    "\n",
    "fig"
   ]
  },
  {
   "cell_type": "code",
   "execution_count": null,
   "metadata": {},
   "outputs": [],
   "source": [
    "import numpy as np\n",
    "import pandas as pd\n",
    "import pickle as pkl\n",
    "from plotly.subplots import make_subplots\n",
    "\n",
    "with open('model-vital-bee-206:v19_predictions.pkl', 'rb') as f:\n",
    "    data = pkl.load(f)\n",
    "    \n",
    "ppg, vpg, apg, abp, pred = data.values()"
   ]
  },
  {
   "cell_type": "code",
   "execution_count": null,
   "metadata": {},
   "outputs": [],
   "source": [
    "i = 18"
   ]
  },
  {
   "cell_type": "code",
   "execution_count": null,
   "metadata": {},
   "outputs": [],
   "source": [
    "fig = make_subplots(rows=2, cols=1, start_cell='top-left')\n",
    "\n",
    "# Add inputs\n",
    "fig.add_scatter(\n",
    "    y=ppg[i, :],\n",
    "    name='PPG',\n",
    "    row=1,\n",
    "    col=1,\n",
    ")\n",
    "fig.add_scatter(\n",
    "    y=vpg[i, :] * 10,\n",
    "    name='VPG',\n",
    "    row=1,\n",
    "    col=1,\n",
    ")\n",
    "fig.add_scatter(\n",
    "    y=apg[i, :] * 50,\n",
    "    name='APG',\n",
    "    row=1,\n",
    "    col=1,\n",
    ")\n",
    "\n",
    "# Add ABP and prediction\n",
    "fig.add_scatter(\n",
    "    y=abp[i, :],\n",
    "    name='ABP (Ground Truth)',\n",
    "    row=2,\n",
    "    col=1\n",
    ")\n",
    "fig.add_scatter(\n",
    "    y=pred[i, :],\n",
    "    name='Prediction',\n",
    "    row=2,\n",
    "    col=1,\n",
    ")\n",
    "\n",
    "fig.update_layout(\n",
    "        title={\n",
    "            'text': 'Model Inputs (PPG, VPG, APG) and Module Output w/ True ABP',\n",
    "            'font': {'size': 20},\n",
    "        },\n",
    "        xaxis2={'title': 'Time (samples)', 'titlefont':{'size': 15}},\n",
    "        yaxis={'title': 'Amplitude (V)', 'titlefont':{'size': 15}},\n",
    "        yaxis2={'title': 'Amplitude (mmHg)', 'titlefont':{'size': 15}},\n",
    "        font={\n",
    "            'family': 'Courier New, monospace',\n",
    "            'color' : '#FFFFFF',\n",
    "            'size'  : 12,\n",
    "        },\n",
    "        template='plotly_dark',\n",
    "        width=800,\n",
    ")\n",
    "fig"
   ]
  }
 ],
 "metadata": {
  "kernelspec": {
   "display_name": "enceladus-w-_QEyfy-py3.9",
   "language": "python",
   "name": "python3"
  },
  "language_info": {
   "codemirror_mode": {
    "name": "ipython",
    "version": 3
   },
   "file_extension": ".py",
   "mimetype": "text/x-python",
   "name": "python",
   "nbconvert_exporter": "python",
   "pygments_lexer": "ipython3",
   "version": "3.9.12"
  },
  "orig_nbformat": 4,
  "vscode": {
   "interpreter": {
    "hash": "32db32f0218b6b96da4712f2a68dfad516c8744583a5e43ba77c08ec53bc2944"
   }
  }
 },
 "nbformat": 4,
 "nbformat_minor": 2
}
