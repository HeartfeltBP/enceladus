{
 "cells": [
  {
   "cell_type": "code",
   "execution_count": null,
   "metadata": {},
   "outputs": [],
   "source": [
    "import numpy as np\n",
    "import pandas as pd\n",
    "import pickle as pkl\n",
    "from enceladus.workflows import TestingPipeline\n",
    "\n",
    "# err_df = TestingPipeline(\n",
    "#     data_dir='/home/cam/Documents/database_tools/data/data-2022-11-08-dev/mimic3/',\n",
    "#     model_dir='heartfelt/Enceladus/model-vital-bee-206:v19',\n",
    "#     scaler='min_max_scaler_1676227271903154114.pkl',\n",
    "# ).run()"
   ]
  },
  {
   "cell_type": "code",
   "execution_count": null,
   "metadata": {},
   "outputs": [],
   "source": [
    "err_df = TestingPipeline(\n",
    "    data_dir='/home/cam/Documents/database_tools/data/data-2022-11-08/mimic3/',\n",
    "    model_dir='heartfelt/Enceladus/model-vital-bee-206:v19',\n",
    "    scaler='scalers_MinMax.pkl',\n",
    ").run()"
   ]
  },
  {
   "cell_type": "code",
   "execution_count": null,
   "metadata": {},
   "outputs": [],
   "source": [
    "import plotly.graph_objects as go\n",
    "\n",
    "pd.options.plotting.backend = 'plotly'\n",
    "\n",
    "fig = go.Figure()\n",
    "fig.add_trace(go.Histogram(x=err_df['sbp_err'], name='SBP Error'))\n",
    "fig.add_trace(go.Histogram(x=err_df['dbp_err'], name='DBP Error'))\n",
    "\n",
    "fig.update_layout(\n",
    "        barmode='overlay',\n",
    "        title={\n",
    "            'text': 'Model Prediction Error Histogram',\n",
    "            'font': {'size': 20},\n",
    "        },\n",
    "        xaxis={'title': 'Error (mmHg)', 'titlefont':{'size': 15}},\n",
    "        yaxis={'title': 'Number of Samples', 'titlefont':{'size': 15}},\n",
    "        font={\n",
    "            'family': 'Courier New, monospace',\n",
    "            'color' : '#FFFFFF',\n",
    "            'size'  : 12,\n",
    "        },\n",
    "        template='plotly_dark',\n",
    "        width=800,\n",
    ")\n",
    "fig\n",
    "fig.update_traces(opacity=0.75)"
   ]
  },
  {
   "cell_type": "code",
   "execution_count": null,
   "metadata": {},
   "outputs": [],
   "source": [
    "# i = 18\n",
    "# ppg, vpg, apg, abp, pred = None\n",
    "\n",
    "# fig = make_subplots(rows=2, cols=1, start_cell='top-left')\n",
    "\n",
    "# # Add inputs\n",
    "# fig.add_scatter(\n",
    "#     y=ppg[i, :],\n",
    "#     name='PPG',\n",
    "#     row=1,\n",
    "#     col=1,\n",
    "# )\n",
    "# fig.add_scatter(\n",
    "#     y=vpg[i, :] * 10,\n",
    "#     name='VPG',\n",
    "#     row=1,\n",
    "#     col=1,\n",
    "# )\n",
    "# fig.add_scatter(\n",
    "#     y=apg[i, :] * 50,\n",
    "#     name='APG',\n",
    "#     row=1,\n",
    "#     col=1,\n",
    "# )\n",
    "\n",
    "# # Add ABP and prediction\n",
    "# fig.add_scatter(\n",
    "#     y=abp[i, :],\n",
    "#     name='ABP (Ground Truth)',\n",
    "#     row=2,\n",
    "#     col=1\n",
    "# )\n",
    "# fig.add_scatter(\n",
    "#     y=pred[i, :],\n",
    "#     name='Prediction',\n",
    "#     row=2,\n",
    "#     col=1,\n",
    "# )\n",
    "\n",
    "# fig.update_layout(\n",
    "#         title={\n",
    "#             'text': 'Model Inputs (PPG, VPG, APG) and Module Output w/ True ABP',\n",
    "#             'font': {'size': 20},\n",
    "#         },\n",
    "#         xaxis2={'title': 'Time (samples)', 'titlefont':{'size': 15}},\n",
    "#         yaxis={'title': 'Amplitude (V)', 'titlefont':{'size': 15}},\n",
    "#         yaxis2={'title': 'Amplitude (mmHg)', 'titlefont':{'size': 15}},\n",
    "#         font={\n",
    "#             'family': 'Courier New, monospace',\n",
    "#             'color' : '#FFFFFF',\n",
    "#             'size'  : 12,\n",
    "#         },\n",
    "#         template='plotly_dark',\n",
    "#         width=800,\n",
    "# )\n",
    "# fig"
   ]
  }
 ],
 "metadata": {
  "kernelspec": {
   "display_name": "enceladus-w-_QEyfy-py3.9",
   "language": "python",
   "name": "python3"
  },
  "language_info": {
   "codemirror_mode": {
    "name": "ipython",
    "version": 3
   },
   "file_extension": ".py",
   "mimetype": "text/x-python",
   "name": "python",
   "nbconvert_exporter": "python",
   "pygments_lexer": "ipython3",
   "version": "3.9.12"
  },
  "orig_nbformat": 4,
  "vscode": {
   "interpreter": {
    "hash": "32db32f0218b6b96da4712f2a68dfad516c8744583a5e43ba77c08ec53bc2944"
   }
  }
 },
 "nbformat": 4,
 "nbformat_minor": 2
}
