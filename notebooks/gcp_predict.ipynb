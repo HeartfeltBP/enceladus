{
 "cells": [
  {
   "cell_type": "code",
   "execution_count": null,
   "metadata": {},
   "outputs": [],
   "source": [
    "import numpy as np\n",
    "import pandas as pd\n",
    "from google.cloud import aiplatform\n",
    "\n",
    "pd.options.plotting.backend = 'plotly'\n",
    "\n",
    "GOOGLE_CLOUD_PROJECT = 'heartfelt-0'\n",
    "GOOGLE_CLOUD_REGION = 'us-central1'\n",
    "ENDPOINT_ID = 4207052545266286592"
   ]
  },
  {
   "cell_type": "code",
   "execution_count": null,
   "metadata": {},
   "outputs": [],
   "source": [
    "ppg, vpg, apg = None"
   ]
  },
  {
   "cell_type": "code",
   "execution_count": null,
   "metadata": {},
   "outputs": [],
   "source": [
    "# The AI Platform services require regional API endpoints.\n",
    "client_options = {\n",
    "    'api_endpoint': GOOGLE_CLOUD_REGION + '-aiplatform.googleapis.com'\n",
    "    }\n",
    "# Initialize client that will be used to create and send requests.\n",
    "client = aiplatform.gapic.PredictionServiceClient(client_options=client_options)\n",
    "\n",
    "# Set data values for the prediction request.\n",
    "instances = [{'ppg': ppg[0, :].reshape(256, 1).tolist(),\n",
    "              'vpg': vpg[0, :].reshape(256, 1).tolist(),\n",
    "              'apg': apg[0, :].reshape(256, 1).tolist(),\n",
    "}]\n",
    "\n",
    "endpoint = client.endpoint_path(\n",
    "    project=GOOGLE_CLOUD_PROJECT,\n",
    "    location=GOOGLE_CLOUD_REGION,\n",
    "    endpoint=ENDPOINT_ID,\n",
    ")\n",
    "# Send a prediction request and get response.\n",
    "response = client.predict(endpoint=endpoint, instances=instances, parameters={'signature_name': 'serving_default'})\n",
    "\n",
    "pred = np.array(response.predictions[0]).flatten()"
   ]
  },
  {
   "cell_type": "code",
   "execution_count": null,
   "metadata": {},
   "outputs": [],
   "source": [
    "pd.Series(pred).plot()"
   ]
  }
 ],
 "metadata": {
  "kernelspec": {
   "display_name": "enceladus-w-_QEyfy-py3.9",
   "language": "python",
   "name": "python3"
  },
  "language_info": {
   "codemirror_mode": {
    "name": "ipython",
    "version": 3
   },
   "file_extension": ".py",
   "mimetype": "text/x-python",
   "name": "python",
   "nbconvert_exporter": "python",
   "pygments_lexer": "ipython3",
   "version": "3.9.12"
  },
  "orig_nbformat": 4,
  "vscode": {
   "interpreter": {
    "hash": "32db32f0218b6b96da4712f2a68dfad516c8744583a5e43ba77c08ec53bc2944"
   }
  }
 },
 "nbformat": 4,
 "nbformat_minor": 2
}
