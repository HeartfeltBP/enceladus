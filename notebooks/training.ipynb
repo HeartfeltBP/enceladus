{
 "cells": [
  {
   "cell_type": "code",
   "execution_count": null,
   "metadata": {},
   "outputs": [],
   "source": [
    "import os\n",
    "from Enceladus.jobs import TrainingPipeline\n",
    "from Enceladus.utils import GetConfiguration\n",
    "\n",
    "repo_dir = os.getcwd().split('notebooks')[0]\n",
    "os.chdir(repo_dir)\n",
    "\n",
    "pipeline, model, sweep = GetConfiguration().run('config/config.ini')\n",
    "worker = TrainingPipeline(\n",
    "    config=pipeline,\n",
    "    model_config=model,\n",
    "    sweep_config=sweep,\n",
    "    no_sweep=True,\n",
    ")\n",
    "worker.run()"
   ]
  }
 ],
 "metadata": {
  "kernelspec": {
   "display_name": "Python 3.8.13 ('enceladus-KRa0cCkj-py3.8')",
   "language": "python",
   "name": "python3"
  },
  "language_info": {
   "codemirror_mode": {
    "name": "ipython",
    "version": 3
   },
   "file_extension": ".py",
   "mimetype": "text/x-python",
   "name": "python",
   "nbconvert_exporter": "python",
   "pygments_lexer": "ipython3",
   "version": "3.8.13"
  },
  "vscode": {
   "interpreter": {
    "hash": "5ade12cb1b75b1f42951472efc0610a14d58a4335c0c3e2443ae63ff35fd8ec0"
   }
  }
 },
 "nbformat": 4,
 "nbformat_minor": 2
}
