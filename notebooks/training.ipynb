{
 "cells": [
  {
   "cell_type": "code",
   "execution_count": null,
   "metadata": {},
   "outputs": [],
   "source": [
    "import os\n",
    "from enceladus.workflows import TrainingPipeline\n",
    "from enceladus.utils import GetConfiguration\n",
    "\n",
    "repo_dir = os.getcwd().split('notebooks')[0]\n",
    "os.chdir(repo_dir)\n",
    "\n",
    "pipeline, model, sweep = GetConfiguration().run('config/20230218.ini')\n",
    "worker = TrainingPipeline(\n",
    "    config=pipeline,\n",
    "    model_config=model,\n",
    "    sweep_config=sweep,\n",
    "    no_sweep=True,\n",
    ")\n",
    "worker.run()"
   ]
  }
 ],
 "metadata": {
  "kernelspec": {
   "display_name": "enceladus-T1sOPeJW-py3.9",
   "language": "python",
   "name": "python3"
  },
  "language_info": {
   "codemirror_mode": {
    "name": "ipython",
    "version": 3
   },
   "file_extension": ".py",
   "mimetype": "text/x-python",
   "name": "python",
   "nbconvert_exporter": "python",
   "pygments_lexer": "ipython3",
   "version": "3.9.16"
  },
  "vscode": {
   "interpreter": {
    "hash": "e0ea72248e28d6ba7ec69e6e4e008d49c91cefbd4aee93cb1fdfa563e6d7f7bb"
   }
  }
 },
 "nbformat": 4,
 "nbformat_minor": 2
}
