{
 "cells": [
  {
   "cell_type": "code",
   "execution_count": null,
   "metadata": {},
   "outputs": [],
   "source": [
    "import os\n",
    "from enceladus.workflows import TrainingPipeline\n",
    "\n",
    "repo_dir = os.getcwd().split('notebooks')[0]\n",
    "os.chdir(repo_dir)\n",
    "\n",
    "worker = TrainingPipeline(\n",
    "    config_path='/home/cam/Documents/database_tools/data/mimic3-data-20230407/config.ini',\n",
    "    no_sweep=True,\n",
    ")\n",
    "worker.run()"
   ]
  }
 ],
 "metadata": {
  "kernelspec": {
   "display_name": "enceladus-w-_QEyfy-py3.9",
   "language": "python",
   "name": "python3"
  },
  "language_info": {
   "codemirror_mode": {
    "name": "ipython",
    "version": 3
   },
   "file_extension": ".py",
   "mimetype": "text/x-python",
   "name": "python",
   "nbconvert_exporter": "python",
   "pygments_lexer": "ipython3",
   "version": "3.9.16"
  },
  "vscode": {
   "interpreter": {
    "hash": "32db32f0218b6b96da4712f2a68dfad516c8744583a5e43ba77c08ec53bc2944"
   }
  }
 },
 "nbformat": 4,
 "nbformat_minor": 2
}
