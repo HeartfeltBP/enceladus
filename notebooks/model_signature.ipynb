{
 "cells": [
  {
   "cell_type": "code",
   "execution_count": null,
   "metadata": {},
   "outputs": [],
   "source": [
    "import keras\n",
    "import tensorflow as tf\n",
    "\n",
    "model = keras.models.load_model('/home/cam/Documents/enceladus/notebooks/artifacts/model-vital-bee-206:v19/')\n",
    "\n",
    "@tf.function()\n",
    "def heartfelt_predict(ppg, vpg, apg):\n",
    "   inputs = {\n",
    "        'ppg': ppg,\n",
    "        'vpg': vpg,\n",
    "        'apg': apg,\n",
    "   }\n",
    "   prediction = model(inputs)\n",
    "   return {'abp': prediction}\n",
    "\n",
    "signatures = heartfelt_predict.get_concrete_function(\n",
    "   ppg=tf.TensorSpec([None, 256, 1], dtype=tf.dtypes.float32, name='ppg'),\n",
    "   vpg=tf.TensorSpec([None, 256, 1], dtype=tf.dtypes.float32, name='vpg'),\n",
    "   apg=tf.TensorSpec([None, 256, 1], dtype=tf.dtypes.float32, name='apg'),\n",
    ")\n",
    "\n",
    "tf.saved_model.save(\n",
    "    model,\n",
    "    export_dir='/home/cam/Documents/enceladus/vital-bee-206-serving/',\n",
    "    signatures=signatures,\n",
    ")"
   ]
  }
 ],
 "metadata": {
  "kernelspec": {
   "display_name": "enceladus-w-_QEyfy-py3.9",
   "language": "python",
   "name": "python3"
  },
  "language_info": {
   "name": "python",
   "version": "3.9.12"
  },
  "orig_nbformat": 4,
  "vscode": {
   "interpreter": {
    "hash": "32db32f0218b6b96da4712f2a68dfad516c8744583a5e43ba77c08ec53bc2944"
   }
  }
 },
 "nbformat": 4,
 "nbformat_minor": 2
}
